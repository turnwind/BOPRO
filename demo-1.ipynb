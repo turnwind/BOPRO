{
 "cells": [
  {
   "cell_type": "code",
   "execution_count": 1,
   "metadata": {},
   "outputs": [],
   "source": [
    "import os\n",
    "import json\n",
    "import re\n",
    "import ast\n",
    "import numpy as np\n",
    "import matplotlib.pyplot as plt\n",
    "from openai import OpenAI\n",
    "\n",
    "client = OpenAI(\n",
    "    base_url=\"https://api.chatanywhere.tech/v1\"\n",
    ")\n",
    "\n",
    "def chat(says):\n",
    "    chat_completion = client.chat.completions.create(\n",
    "        messages=[\n",
    "            {\n",
    "                \"role\": \"user\",\n",
    "                \"content\": says,\n",
    "            }\n",
    "        ],\n",
    "        model=\"gpt-4o-2024-05-13\",\n",
    "    )\n",
    "    print(\"bots: \"+chat_completion.choices[0].message.content)\n",
    "    return  chat_completion.choices[0].message.content\n",
    "\n",
    "def obj(x,y):\n",
    "    return (x-2)**2+(y-3)**2\n",
    "\n",
    "with open(\"prompt.txt\",\"r\",encoding=\"utf-8\") as file:\n",
    "    says = file.read()\n",
    "\n",
    "def Getvalue(ch,str):\n",
    "    s = str.find(ch)\n",
    "    e = str[s+1:].find(ch)\n",
    "    return str[s+1:s+e+1]\n",
    "\n",
    "def warm_strat(num):\n",
    "    flag  = 1 #Determine whether the output meets the format.\n",
    "    while flag:\n",
    "        pt = (\n",
    "            \"You need to assume {} initial points for an optimization problem, and the objective function corresponding to the initial points should be as small as possible.\"\n",
    "            \"The objective function of this task is a binary quadratic function.\"\n",
    "            \"x1 must be within the range of [-5, 5]. x2 must be within the range of [-5, 5].\"\n",
    "            \"According to the experience of previous tasks, the minimum value of the objective function may be around x1, x2 = 3, 3.\"\n",
    "            \"Please do not provide duplicate values.\"\n",
    "            \"Please give your answer and format your output as follows: *[],[],[],...,[]*\").format(num)\n",
    "        datas = Getvalue(\"*\",chat(pt))\n",
    "        datas = \"[\" + datas + \"]\"\n",
    "        datas =  ast.literal_eval(datas)\n",
    "        if len(datas) == num:\n",
    "            flag = 0\n",
    "    return datas\n",
    "\n",
    "def candidate_sampling(history,num):\n",
    "    flag  = 1 #Determine whether the output meets the format.\n",
    "    while flag:\n",
    "        pt = (\n",
    "            \"Based on the previous optimization results {}, you need to provide {} candidate points for the next optimization.\"\n",
    "            \"The objective function of this task is a binary quadratic function.\"\n",
    "            \"x1 must be within the range of [-5, 5]. x2 must be within the range of [-5, 5].\"\n",
    "            \"Please do not provide duplicate values.\"\n",
    "            \"Please give your answer and format your output as follows: *[],[],[],...,[]*\").format(json.dumps(history),num)\n",
    "        datas = Getvalue(\"*\",chat(pt))\n",
    "        datas = \"[\" + datas + \"]\"\n",
    "        datas =  ast.literal_eval(datas)\n",
    "        if len(datas) == num:\n",
    "            flag = 0\n",
    "    return datas\n",
    "    \n",
    "def SurrogateModel(history,samples):\n",
    "    data_pred = []\n",
    "    for i in range(len(samples)):\n",
    "        flag  = 1 #Determine whether the output meets the format.\n",
    "        while flag:\n",
    "            pt = (\"You are helping tune hyperparameters to minimize loss(>0).\"\n",
    "                \"The objective function of this task is a binary quadratic function.\"\n",
    "                \"You need to guess the target function value for a given x based on historical evaluation data.\"\n",
    "                \"Below is the historical evaluation data, formatted as [Hyperparameters] - [loss]:\"\n",
    "                \"{}\"\n",
    "                \"As short as possible, do not provide too much information.\"\n",
    "                \"Please guess the loss for params:{} and format your output as follows: *xx*\").format(history,samples[i])\n",
    "            loss = re.findall(r'-?\\d+\\.\\d+|-?\\d+', Getvalue(\"*\",chat(pt)))\n",
    "            if len(loss) == 1:\n",
    "                flag = 0\n",
    "                new_entry = {\"params\": samples[i], \"loss\": float(loss[0])}\n",
    "                data_pred.append(new_entry)\n",
    "    return data_pred"
   ]
  },
  {
   "cell_type": "code",
   "execution_count": 2,
   "metadata": {},
   "outputs": [
    {
     "name": "stdout",
     "output_type": "stream",
     "text": [
      "bots: Based on the constraints and the experience from previous tasks, here are three initial points that are spread around the area where the minimum value is suspected to be (x1, x2 = 3, 3):\n",
      "\n",
      "*[2.5, 3.5], [3.0, 2.5], [3.5, 3.0]*\n"
     ]
    }
   ],
   "source": [
    "numiters = 10\n",
    "inidatas = warm_strat(3)\n",
    "datas = []\n",
    "arrloss = []\n",
    "for i in inidatas:\n",
    "    loss = obj(i[0],i[1])\n",
    "    new_entry = {\"params\": [i[0], i[1]], \"loss\": loss}\n",
    "    datas.append(new_entry)"
   ]
  },
  {
   "cell_type": "code",
   "execution_count": 3,
   "metadata": {},
   "outputs": [
    {
     "name": "stderr",
     "output_type": "stream",
     "text": [
      "  0%|          | 0/10 [00:00<?, ?it/s]"
     ]
    },
    {
     "name": "stdout",
     "output_type": "stream",
     "text": [
      "bots: Sure! Here are five candidate points for the next optimization:\n",
      "\n",
      "*[2.75, 3.0], [3.25, 2.75], [2.5, 2.5], [3.0, 3.25], [2.25, 3.25]*\n",
      "bots: *0.625*\n",
      "bots: *1.75*\n",
      "bots: *0.5*\n",
      "bots: *1.0*\n"
     ]
    },
    {
     "name": "stderr",
     "output_type": "stream",
     "text": [
      " 10%|█         | 1/10 [00:05<00:47,  5.31s/it]"
     ]
    },
    {
     "name": "stdout",
     "output_type": "stream",
     "text": [
      "bots: *0.25*\n",
      "bots: *[2.0, 3.0], [2.75, 3.0], [2.25, 2.75], [2.0, 3.5], [3.0, 3.25]*\n",
      "bots: *0.5*\n",
      "bots: The guessed loss for params: [2.75, 3.0] is *0.625*.\n",
      "bots: *0.8125*\n",
      "bots: *0.5*\n"
     ]
    },
    {
     "name": "stderr",
     "output_type": "stream",
     "text": [
      " 20%|██        | 2/10 [00:10<00:40,  5.05s/it]"
     ]
    },
    {
     "name": "stdout",
     "output_type": "stream",
     "text": [
      "bots: *1.0*\n",
      "bots: Based on the previous optimization results and the requirement to provide 5 candidate points within the range of [-5, 5] for \\(x_1\\) and \\(x_2\\) without duplicating values, we should consider points near the optimal candidate so far ([2.0, 3.0] with a loss of 0.0) but also ensure diversity to explore the parameter space.\n",
      "\n",
      "Here are 5 candidate points:\n",
      "* [1.75, 3.0], [2.0, 2.75], [2.25, 2.75], [1.5, 3.5], [2.5, 2.5] *\n",
      "\n",
      "These points are close to the current optimal point and spread within the given range for further exploration to find the minimum loss.\n",
      "bots: *0.25*\n",
      "bots: *0.0625*\n",
      "bots: *0.25*\n",
      "bots: *1.75*\n"
     ]
    },
    {
     "name": "stderr",
     "output_type": "stream",
     "text": [
      " 30%|███       | 3/10 [00:16<00:38,  5.51s/it]"
     ]
    },
    {
     "name": "stdout",
     "output_type": "stream",
     "text": [
      "bots: *1.0*\n",
      "bots: Based on the previous optimization results, it appears that lower values for `x1` and values around 3 for `x2` result in lower losses. Thus, my candidate points will explore around these regions to further investigate the minimum.\n",
      "\n",
      "Here are 5 candidate points for the next optimization:\n",
      "*[1.75, 3.0], [2.0, 2.5], [2.25, 2.75], [1.5, 3.25], [1.75, 2.75]*\n",
      "bots: *0.3125*\n",
      "bots: *0.25*\n",
      "bots: **0.25**\n",
      "bots: *0.125*\n",
      "bots: *0.625*\n"
     ]
    },
    {
     "name": "stderr",
     "output_type": "stream",
     "text": [
      " 40%|████      | 4/10 [00:23<00:36,  6.03s/it]"
     ]
    },
    {
     "name": "stdout",
     "output_type": "stream",
     "text": [
      "bots: *0.5*\n",
      "bots: * [2.0, 3.25], [2.25, 3.0], [2.0, 2.5], [1.75, 3.0], [2.0, 3.5] *\n",
      "bots: *0.0625*\n",
      "bots: *0.0625*\n",
      "bots: *0.25*\n",
      "bots: *0.0625*\n"
     ]
    },
    {
     "name": "stderr",
     "output_type": "stream",
     "text": [
      " 50%|█████     | 5/10 [00:28<00:29,  5.91s/it]"
     ]
    },
    {
     "name": "stdout",
     "output_type": "stream",
     "text": [
      "bots: *0.25*\n",
      "bots: Based on the given previous optimization results and the behavior of the loss function, which appears to be lower near [2.0, 3.0], we can generate candidate points by exploring around this region while ensuring a diverse set of trial points. \n",
      "\n",
      "Here are 5 candidate points for the next optimization:\n",
      "\n",
      "*[-1.5, 4.0], [1.5, 3.0], [2.0, -1.0], [3.0, 2.0], [-2.5, 3.5]*\n",
      "bots: *22.25*\n",
      "bots: *0.25*\n",
      "bots: *16*\n",
      "bots: *1.0*\n"
     ]
    },
    {
     "name": "stderr",
     "output_type": "stream",
     "text": [
      " 60%|██████    | 6/10 [00:36<00:25,  6.48s/it]"
     ]
    },
    {
     "name": "stdout",
     "output_type": "stream",
     "text": [
      "bots: *20.5*\n",
      "bots: Based on the optimization results, it appears that lower values of \\( x_1 \\) (around 2.0) and \\( x_2 \\) (around 3.0) tend to yield better results in terms of minimizing loss. Hence, we can explore values in the proximity of these promising parameters while also sampling the search space to explore other potentially good candidates.\n",
      "\n",
      "Here are 5 candidate points for the next round of optimization:\n",
      "\n",
      "*[2.1, 3.0], [2.0, 2.85], [1.9, 3.1], [2.15, 2.95], [1.8, 3.2]*\n",
      "bots: *0.01*\n",
      "bots: *0.0075*\n",
      "bots: *0.01*\n",
      "bots: *0.0225*\n"
     ]
    },
    {
     "name": "stderr",
     "output_type": "stream",
     "text": [
      " 70%|███████   | 7/10 [00:43<00:19,  6.64s/it]"
     ]
    },
    {
     "name": "stdout",
     "output_type": "stream",
     "text": [
      "bots: *0.02*\n",
      "bots: Based on the previous optimization results and aiming to further reduce the loss of the binary quadratic function, here are five candidate points for the next optimization:\n",
      "\n",
      "*[2.0, 2.9], [1.75, 3.15], [2.0, 3.15], [2.1, 3.05], [1.85, 2.95]*\n",
      "bots: *0.01*\n",
      "bots: *0.125*\n",
      "bots: ```0.0225```\n",
      "bots: *0.0104*\n"
     ]
    },
    {
     "name": "stderr",
     "output_type": "stream",
     "text": [
      " 80%|████████  | 8/10 [00:50<00:13,  6.65s/it]"
     ]
    },
    {
     "name": "stdout",
     "output_type": "stream",
     "text": [
      "bots: *0.0075*\n",
      "bots: *[1.95, 3.05], [2.05, 2.95], [2.0, 2.90], [2.10, 2.90], [1.9, 3.1]*\n",
      "bots: *0.0125*\n",
      "bots: *0.0225*\n",
      "bots: *0.01*\n",
      "bots: *0.01*\n"
     ]
    },
    {
     "name": "stderr",
     "output_type": "stream",
     "text": [
      " 90%|█████████ | 9/10 [00:54<00:06,  6.04s/it]"
     ]
    },
    {
     "name": "stdout",
     "output_type": "stream",
     "text": [
      "bots: *0.05*\n",
      "bots: Here are 5 candidate points for the next optimization:\n",
      "\n",
      "* [2.0, 2.8],\n",
      "[2.15, 2.9],\n",
      "[1.75, 3.0],\n",
      "[1.95, 2.9],\n",
      "[2.05, 2.85] *\n",
      "bots: *0.04*\n",
      "bots: *0.0575*\n",
      "bots: *0.0625*\n",
      "bots: *0.0125*\n"
     ]
    },
    {
     "name": "stderr",
     "output_type": "stream",
     "text": [
      "100%|██████████| 10/10 [00:59<00:00,  5.96s/it]"
     ]
    },
    {
     "name": "stdout",
     "output_type": "stream",
     "text": [
      "bots: *0.0225*\n"
     ]
    },
    {
     "name": "stderr",
     "output_type": "stream",
     "text": [
      "\n"
     ]
    }
   ],
   "source": [
    "from tqdm import tqdm\n",
    "for i in tqdm(range(numiters)):\n",
    "    samplers = candidate_sampling(datas,5)\n",
    "    data_pred = SurrogateModel(datas,samplers)\n",
    "    next_point = min(data_pred, key=lambda x: x['loss'])\n",
    "    loss = obj(next_point[\"params\"][0],next_point[\"params\"][1])\n",
    "    arrloss.append(loss)\n",
    "    new_entry = {\"params\": next_point[\"params\"], \"loss\": loss} \n",
    "    datas.append(new_entry)"
   ]
  },
  {
   "cell_type": "code",
   "execution_count": 16,
   "metadata": {},
   "outputs": [
    {
     "name": "stdout",
     "output_type": "stream",
     "text": [
      "13\n"
     ]
    },
    {
     "data": {
      "image/png": "[encoded data removed]",
      "text/plain": [
       "<Figure size 640x480 with 1 Axes>"
      ]
     },
     "metadata": {},
     "output_type": "display_data"
    }
   ],
   "source": [
    "minn = 1e10\n",
    "print(len(datas))\n",
    "losses = []\n",
    "for i in range(13):\n",
    "    minn = min(minn,datas[i][\"loss\"])\n",
    "    losses.append(minn)\n",
    "plt.plot(losses)\n",
    "plt.show()"
   ]
  },
  {
   "cell_type": "code",
   "execution_count": 6,
   "metadata": {},
   "outputs": [
    {
     "name": "stdout",
     "output_type": "stream",
     "text": [
      "|   iter    |  target   |     x     |     y     |\n",
      "-------------------------------------------------\n",
      "| \u001b[0m1        \u001b[0m | \u001b[0m-0.5     \u001b[0m | \u001b[0m2.5      \u001b[0m | \u001b[0m3.5      \u001b[0m |\n",
      "| \u001b[0m2        \u001b[0m | \u001b[0m-1.25    \u001b[0m | \u001b[0m3.0      \u001b[0m | \u001b[0m2.5      \u001b[0m |\n",
      "| \u001b[0m3        \u001b[0m | \u001b[0m-2.25    \u001b[0m | \u001b[0m3.5      \u001b[0m | \u001b[0m3.0      \u001b[0m |\n",
      "| \u001b[0m4        \u001b[0m | \u001b[0m-53.54   \u001b[0m | \u001b[0m-3.912   \u001b[0m | \u001b[0m-1.311   \u001b[0m |\n",
      "| \u001b[0m5        \u001b[0m | \u001b[0m-73.0    \u001b[0m | \u001b[0m5.0      \u001b[0m | \u001b[0m-5.0     \u001b[0m |\n",
      "| \u001b[0m6        \u001b[0m | \u001b[0m-53.0    \u001b[0m | \u001b[0m-5.0     \u001b[0m | \u001b[0m5.0      \u001b[0m |\n",
      "| \u001b[0m7        \u001b[0m | \u001b[0m-13.0    \u001b[0m | \u001b[0m5.0      \u001b[0m | \u001b[0m5.0      \u001b[0m |\n",
      "| \u001b[0m8        \u001b[0m | \u001b[0m-6.609   \u001b[0m | \u001b[0m0.3846   \u001b[0m | \u001b[0m5.0      \u001b[0m |\n",
      "| \u001b[0m9        \u001b[0m | \u001b[0m-2.605   \u001b[0m | \u001b[0m0.4606   \u001b[0m | \u001b[0m2.515    \u001b[0m |\n",
      "| \u001b[95m10       \u001b[0m | \u001b[95m-0.4948  \u001b[0m | \u001b[95m1.349    \u001b[0m | \u001b[95m3.266    \u001b[0m |\n",
      "| \u001b[0m11       \u001b[0m | \u001b[0m-2.341   \u001b[0m | \u001b[0m1.541    \u001b[0m | \u001b[0m1.541    \u001b[0m |\n",
      "| \u001b[95m12       \u001b[0m | \u001b[95m-0.1542  \u001b[0m | \u001b[95m1.881    \u001b[0m | \u001b[95m2.626    \u001b[0m |\n",
      "| \u001b[0m13       \u001b[0m | \u001b[0m-4.051   \u001b[0m | \u001b[0m2.226    \u001b[0m | \u001b[0m5.0      \u001b[0m |\n",
      "=================================================\n"
     ]
    },
    {
     "data": {
      "image/png": "[encoded data removed]",
      "text/plain": [
       "<Figure size 640x480 with 1 Axes>"
      ]
     },
     "metadata": {},
     "output_type": "display_data"
    }
   ],
   "source": [
    "from bayes_opt import BayesianOptimization\n",
    "pbounds = {'x': (-5, 5), 'y': (-5, 5)}\n",
    "def target_function(x, y):\n",
    "    return -(x-2)**2 - (y - 3)**2\n",
    "\n",
    "optimizer = BayesianOptimization(\n",
    "    f=target_function,\n",
    "    pbounds=pbounds,\n",
    "    random_state=1,\n",
    ")\n",
    "\n",
    "initial_points = []\n",
    "for i in range(3):\n",
    "    new_entry = {'x': inidatas[i][0], 'y': inidatas[i][1]}\n",
    "    initial_points.append(new_entry) \n",
    "\n",
    "for point in initial_points:\n",
    "    optimizer.probe(\n",
    "        params=point,\n",
    "        lazy=True\n",
    "    )\n",
    "\n",
    "# 执行优化\n",
    "optimizer.maximize(\n",
    "    init_points=0,\n",
    "    n_iter=10,\n",
    ")\n",
    "\n",
    "target_values = [res['target'] for res in optimizer.res]\n",
    "plt.plot(target_values, marker='o')\n",
    "plt.grid(True)\n",
    "plt.show()"
   ]
  },
  {
   "cell_type": "code",
   "execution_count": null,
   "metadata": {},
   "outputs": [],
   "source": []
  }
 ],
 "metadata": {
  "kernelspec": {
   "display_name": "base",
   "language": "python",
   "name": "python3"
  },
  "language_info": {
   "codemirror_mode": {
    "name": "ipython",
    "version": 3
   },
   "file_extension": ".py",
   "mimetype": "text/x-python",
   "name": "python",
   "nbconvert_exporter": "python",
   "pygments_lexer": "ipython3",
   "version": "3.11.5"
  }
 },
 "nbformat": 4,
 "nbformat_minor": 2
}
